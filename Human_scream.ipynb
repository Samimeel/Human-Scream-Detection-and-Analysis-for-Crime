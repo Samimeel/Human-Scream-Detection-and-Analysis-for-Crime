{
 "cells": [
  {
   "cell_type": "code",
   "execution_count": 4,
   "metadata": {},
   "outputs": [],
   "source": [
    "import numpy as np\n",
    "import pandas as pd\n",
    "import os"
   ]
  },
  {
   "cell_type": "code",
   "execution_count": 5,
   "metadata": {},
   "outputs": [],
   "source": [
    "import librosa\n",
    "import numpy as np\n",
    "from sklearn.svm import SVC\n",
    "from sklearn.linear_model import LogisticRegression\n",
    "from sklearn.ensemble import RandomForestClassifier\n",
    "from sklearn.neighbors import KNeighborsClassifier\n",
    "from sklearn.tree import DecisionTreeClassifier\n",
    "from xgboost import XGBClassifier\n",
    "from sklearn.preprocessing import StandardScaler\n",
    "from sklearn.model_selection import train_test_split\n",
    "from sklearn.metrics import accuracy_score,confusion_matrix\n",
    "import os\n",
    "import numpy as np\n",
    "import joblib"
   ]
  },
  {
   "cell_type": "code",
   "execution_count": 6,
   "metadata": {},
   "outputs": [],
   "source": [
    "# directories for screaming and non screaming audio for both inside and outside\n",
    "in_scream_dir = \"C:\\\\Users\\\\acer\\\\OneDrive\\\\Desktop\\\\HSD\\\\dataSet_inside\\\\Converted_Separately\\\\scream\"\n",
    "in_non_scream_dir = \"C:\\\\Users\\\\acer\\\\OneDrive\\\\Desktop\\\\HSD\\\\dataSet_inside\\\\Converted_Separately\\\\non_scream\"\n",
    "out_scream_dir = \"C:\\\\Users\\\\acer\\\\OneDrive\\\\Desktop\\\\HSD\\\\dataSet-outside\\\\Screaming\"\n",
    "out_non_scream_dir = \"C:\\\\Users\\\\acer\\\\OneDrive\\\\Desktop\\\\HSD\\\\dataSet-outside\\\\NotScreaming\"\n",
    "\n",
    "RATE = 44100  # Sample rate"
   ]
  },
  {
   "cell_type": "code",
   "execution_count": 10,
   "metadata": {},
   "outputs": [],
   "source": [
    "def individual_audio_features(y):\n",
    "    mfccs = librosa.feature.mfcc(y=y, sr=RATE, n_mfcc=13) # mfcc -> mel-frequency cepstrum coeff.\n",
    "    spectral_contrast = librosa.feature.spectral_contrast(y=y, sr=RATE) # spectral contrast\n",
    "    chroma = librosa.feature.chroma_stft(y=y, sr=RATE) # chroma features\n",
    "    zero_crossing_rate = librosa.feature.zero_crossing_rate(y) # 0 corssing rate\n",
    "    spectral_centroid = librosa.feature.spectral_centroid(y=y, sr=RATE) # spectral centroid\n",
    "    spectral_bandwidth = librosa.feature.spectral_bandwidth(y=y, sr=RATE) # spectral bandwidth\n",
    "    rmse = librosa.feature.rms(y=y) # root mean sq energy\n",
    "    spectral_rolloff = librosa.feature.spectral_rolloff(y=y, sr=RATE) # spectral roll off\n",
    "    # beats per minute\n",
    "    onset_env = librosa.onset.onset_strength(y=y, sr=RATE)\n",
    "    tempo = librosa.beat.tempo(onset_envelope=onset_env, sr=RATE)\n",
    "    \n",
    "    feature_vector = np.hstack([\n",
    "        np.mean(mfccs, axis=1),             \n",
    "        np.mean(spectral_contrast, axis=1), \n",
    "        np.mean(chroma, axis=1),         \n",
    "        np.mean(zero_crossing_rate),     \n",
    "        np.mean(spectral_centroid),      \n",
    "        np.mean(spectral_bandwidth),    \n",
    "        np.mean(rmse),                  \n",
    "        np.mean(spectral_rolloff),      \n",
    "        tempo                          \n",
    "    ])    \n",
    "    return feature_vector"
   ]
  },
  {
   "cell_type": "code",
   "execution_count": 11,
   "metadata": {},
   "outputs": [],
   "source": [
    "def load_audio_file(directory):\n",
    "    audio_features = []\n",
    "    for root, _, files in os.walk(directory):\n",
    "        for file in files:\n",
    "            file_path = os.path.join(root, file)\n",
    "            y, _ = librosa.load(file_path, sr=RATE)\n",
    "            features = individual_audio_features(y)\n",
    "            audio_features.append(features)\n",
    "    \n",
    "    return np.array(audio_features)"
   ]
  },
  {
   "cell_type": "code",
   "execution_count": 12,
   "metadata": {},
   "outputs": [
    {
     "name": "stderr",
     "output_type": "stream",
     "text": [
      "C:\\Users\\acer\\AppData\\Local\\Temp\\ipykernel_18940\\2845026965.py:12: FutureWarning: librosa.beat.tempo\n",
      "\tThis function was moved to 'librosa.feature.rhythm.tempo' in librosa version 0.10.0.\n",
      "\tThis alias will be removed in librosa version 1.0.\n",
      "  tempo = librosa.beat.tempo(onset_envelope=onset_env, sr=RATE)\n",
      "C:\\Users\\acer\\AppData\\Roaming\\Python\\Python312\\site-packages\\librosa\\core\\pitch.py:101: UserWarning: Trying to estimate tuning from empty frequency set.\n",
      "  return pitch_tuning(\n"
     ]
    },
    {
     "name": "stdout",
     "output_type": "stream",
     "text": [
      "1st dir completed\n",
      "2nd dir completed\n",
      "3rd dir completed\n",
      "4th dir completed\n",
      "Scream features shape: (2445, 38)\n",
      "Non-scream features shape: (4176, 38)\n"
     ]
    }
   ],
   "source": [
    "X_scream_1 = load_audio_file(in_scream_dir)\n",
    "print(\"1st dir completed\")\n",
    "X_scream_2 = load_audio_file(out_scream_dir)\n",
    "print(\"2nd dir completed\")\n",
    "X_scream = np.vstack([X_scream_1, X_scream_2])\n",
    "\n",
    "X_non_scream_1 = load_audio_file(in_non_scream_dir)\n",
    "print(\"3rd dir completed\")\n",
    "X_non_scream_2 = load_audio_file(out_non_scream_dir)\n",
    "print(\"4th dir completed\")\n",
    "X_non_scream = np.vstack([X_non_scream_1, X_non_scream_2])\n",
    "  \n",
    "print(f\"Scream features shape: {X_scream.shape}\")\n",
    "print(f\"Non-scream features shape: {X_non_scream.shape}\")\n"
   ]
  },
  {
   "cell_type": "code",
   "execution_count": 13,
   "metadata": {},
   "outputs": [],
   "source": [
    "X = np.vstack([X_scream, X_non_scream])\n",
    "y_screams = np.ones(len(X_scream))\n",
    "y_non_screams = np.zeros(len(X_non_scream))\n",
    "y = np.hstack([y_screams, y_non_screams])"
   ]
  },
  {
   "cell_type": "code",
   "execution_count": 14,
   "metadata": {},
   "outputs": [
    {
     "name": "stdout",
     "output_type": "stream",
     "text": [
      "(6621, 38)\n",
      "(6621,)\n"
     ]
    }
   ],
   "source": [
    "print(X.shape)\n",
    "print(y.shape)"
   ]
  },
  {
   "cell_type": "code",
   "execution_count": 32,
   "metadata": {},
   "outputs": [],
   "source": [
    "std = StandardScaler()\n",
    "X = std.fit_transform(X)"
   ]
  },
  {
   "cell_type": "code",
   "execution_count": 33,
   "metadata": {},
   "outputs": [
    {
     "data": {
      "text/html": [
       "<div>\n",
       "<style scoped>\n",
       "    .dataframe tbody tr th:only-of-type {\n",
       "        vertical-align: middle;\n",
       "    }\n",
       "\n",
       "    .dataframe tbody tr th {\n",
       "        vertical-align: top;\n",
       "    }\n",
       "\n",
       "    .dataframe thead th {\n",
       "        text-align: right;\n",
       "    }\n",
       "</style>\n",
       "<table border=\"1\" class=\"dataframe\">\n",
       "  <thead>\n",
       "    <tr style=\"text-align: right;\">\n",
       "      <th></th>\n",
       "      <th>0</th>\n",
       "      <th>1</th>\n",
       "      <th>2</th>\n",
       "      <th>3</th>\n",
       "      <th>4</th>\n",
       "      <th>5</th>\n",
       "      <th>6</th>\n",
       "      <th>7</th>\n",
       "      <th>8</th>\n",
       "      <th>9</th>\n",
       "      <th>...</th>\n",
       "      <th>28</th>\n",
       "      <th>29</th>\n",
       "      <th>30</th>\n",
       "      <th>31</th>\n",
       "      <th>32</th>\n",
       "      <th>33</th>\n",
       "      <th>34</th>\n",
       "      <th>35</th>\n",
       "      <th>36</th>\n",
       "      <th>37</th>\n",
       "    </tr>\n",
       "  </thead>\n",
       "  <tbody>\n",
       "    <tr>\n",
       "      <th>0</th>\n",
       "      <td>-0.482530</td>\n",
       "      <td>-1.438952</td>\n",
       "      <td>-1.101677</td>\n",
       "      <td>-0.113792</td>\n",
       "      <td>1.058561</td>\n",
       "      <td>0.488922</td>\n",
       "      <td>1.720744</td>\n",
       "      <td>-0.467755</td>\n",
       "      <td>-0.628656</td>\n",
       "      <td>0.970018</td>\n",
       "      <td>...</td>\n",
       "      <td>-1.403307</td>\n",
       "      <td>-1.618946</td>\n",
       "      <td>-1.446762</td>\n",
       "      <td>-1.170324</td>\n",
       "      <td>0.542139</td>\n",
       "      <td>0.656914</td>\n",
       "      <td>-0.437587</td>\n",
       "      <td>-0.455822</td>\n",
       "      <td>0.402907</td>\n",
       "      <td>0.558095</td>\n",
       "    </tr>\n",
       "    <tr>\n",
       "      <th>1</th>\n",
       "      <td>-1.086956</td>\n",
       "      <td>-1.204024</td>\n",
       "      <td>0.887710</td>\n",
       "      <td>0.020991</td>\n",
       "      <td>0.799679</td>\n",
       "      <td>0.602464</td>\n",
       "      <td>0.817815</td>\n",
       "      <td>0.175531</td>\n",
       "      <td>0.007295</td>\n",
       "      <td>0.104246</td>\n",
       "      <td>...</td>\n",
       "      <td>-0.723509</td>\n",
       "      <td>0.279771</td>\n",
       "      <td>1.572962</td>\n",
       "      <td>-0.010966</td>\n",
       "      <td>-0.486261</td>\n",
       "      <td>-0.472462</td>\n",
       "      <td>-0.643264</td>\n",
       "      <td>-0.903726</td>\n",
       "      <td>-0.496325</td>\n",
       "      <td>0.350468</td>\n",
       "    </tr>\n",
       "    <tr>\n",
       "      <th>2</th>\n",
       "      <td>-0.350064</td>\n",
       "      <td>-1.192304</td>\n",
       "      <td>-1.923286</td>\n",
       "      <td>-1.538495</td>\n",
       "      <td>0.067829</td>\n",
       "      <td>0.607211</td>\n",
       "      <td>2.869157</td>\n",
       "      <td>0.189706</td>\n",
       "      <td>-1.308540</td>\n",
       "      <td>1.236362</td>\n",
       "      <td>...</td>\n",
       "      <td>-0.792088</td>\n",
       "      <td>0.497840</td>\n",
       "      <td>-1.455801</td>\n",
       "      <td>-2.020585</td>\n",
       "      <td>0.317506</td>\n",
       "      <td>0.056640</td>\n",
       "      <td>-0.801688</td>\n",
       "      <td>0.251750</td>\n",
       "      <td>-0.308184</td>\n",
       "      <td>0.558095</td>\n",
       "    </tr>\n",
       "    <tr>\n",
       "      <th>3</th>\n",
       "      <td>-0.094865</td>\n",
       "      <td>0.395920</td>\n",
       "      <td>0.353865</td>\n",
       "      <td>-0.495084</td>\n",
       "      <td>0.437733</td>\n",
       "      <td>-0.351223</td>\n",
       "      <td>0.606724</td>\n",
       "      <td>0.711256</td>\n",
       "      <td>0.458434</td>\n",
       "      <td>0.357824</td>\n",
       "      <td>...</td>\n",
       "      <td>0.715514</td>\n",
       "      <td>0.394195</td>\n",
       "      <td>0.212352</td>\n",
       "      <td>0.185817</td>\n",
       "      <td>-0.611721</td>\n",
       "      <td>-0.802469</td>\n",
       "      <td>-0.767140</td>\n",
       "      <td>-0.224655</td>\n",
       "      <td>-0.699563</td>\n",
       "      <td>0.350468</td>\n",
       "    </tr>\n",
       "    <tr>\n",
       "      <th>4</th>\n",
       "      <td>-0.274082</td>\n",
       "      <td>0.612170</td>\n",
       "      <td>0.918420</td>\n",
       "      <td>-1.149466</td>\n",
       "      <td>0.084080</td>\n",
       "      <td>0.084517</td>\n",
       "      <td>-0.026533</td>\n",
       "      <td>0.265013</td>\n",
       "      <td>0.568041</td>\n",
       "      <td>-0.760342</td>\n",
       "      <td>...</td>\n",
       "      <td>0.074856</td>\n",
       "      <td>-0.053546</td>\n",
       "      <td>0.163256</td>\n",
       "      <td>1.087381</td>\n",
       "      <td>-0.529416</td>\n",
       "      <td>-1.009172</td>\n",
       "      <td>-1.034637</td>\n",
       "      <td>0.166342</td>\n",
       "      <td>-1.007576</td>\n",
       "      <td>0.153222</td>\n",
       "    </tr>\n",
       "    <tr>\n",
       "      <th>...</th>\n",
       "      <td>...</td>\n",
       "      <td>...</td>\n",
       "      <td>...</td>\n",
       "      <td>...</td>\n",
       "      <td>...</td>\n",
       "      <td>...</td>\n",
       "      <td>...</td>\n",
       "      <td>...</td>\n",
       "      <td>...</td>\n",
       "      <td>...</td>\n",
       "      <td>...</td>\n",
       "      <td>...</td>\n",
       "      <td>...</td>\n",
       "      <td>...</td>\n",
       "      <td>...</td>\n",
       "      <td>...</td>\n",
       "      <td>...</td>\n",
       "      <td>...</td>\n",
       "      <td>...</td>\n",
       "      <td>...</td>\n",
       "      <td>...</td>\n",
       "    </tr>\n",
       "    <tr>\n",
       "      <th>6616</th>\n",
       "      <td>-1.463541</td>\n",
       "      <td>-0.448600</td>\n",
       "      <td>1.276753</td>\n",
       "      <td>0.280674</td>\n",
       "      <td>-0.845566</td>\n",
       "      <td>0.083171</td>\n",
       "      <td>0.705812</td>\n",
       "      <td>-0.898012</td>\n",
       "      <td>-0.043343</td>\n",
       "      <td>-0.389673</td>\n",
       "      <td>...</td>\n",
       "      <td>0.108954</td>\n",
       "      <td>0.198638</td>\n",
       "      <td>0.230507</td>\n",
       "      <td>0.595164</td>\n",
       "      <td>0.127410</td>\n",
       "      <td>0.207659</td>\n",
       "      <td>0.816291</td>\n",
       "      <td>-1.093789</td>\n",
       "      <td>0.524319</td>\n",
       "      <td>0.153222</td>\n",
       "    </tr>\n",
       "    <tr>\n",
       "      <th>6617</th>\n",
       "      <td>1.094023</td>\n",
       "      <td>0.812874</td>\n",
       "      <td>0.508656</td>\n",
       "      <td>1.298854</td>\n",
       "      <td>-0.523503</td>\n",
       "      <td>0.981289</td>\n",
       "      <td>-0.310690</td>\n",
       "      <td>0.134591</td>\n",
       "      <td>0.890048</td>\n",
       "      <td>-0.518258</td>\n",
       "      <td>...</td>\n",
       "      <td>-0.022397</td>\n",
       "      <td>-0.013638</td>\n",
       "      <td>0.165482</td>\n",
       "      <td>0.076858</td>\n",
       "      <td>-0.838675</td>\n",
       "      <td>-0.632857</td>\n",
       "      <td>0.065829</td>\n",
       "      <td>0.810161</td>\n",
       "      <td>-0.482345</td>\n",
       "      <td>-0.850160</td>\n",
       "    </tr>\n",
       "    <tr>\n",
       "      <th>6618</th>\n",
       "      <td>-0.364640</td>\n",
       "      <td>-0.936267</td>\n",
       "      <td>0.478862</td>\n",
       "      <td>0.773056</td>\n",
       "      <td>1.198929</td>\n",
       "      <td>0.510726</td>\n",
       "      <td>0.193021</td>\n",
       "      <td>0.200042</td>\n",
       "      <td>0.625738</td>\n",
       "      <td>0.516748</td>\n",
       "      <td>...</td>\n",
       "      <td>-0.270995</td>\n",
       "      <td>0.041645</td>\n",
       "      <td>-0.218534</td>\n",
       "      <td>-0.160558</td>\n",
       "      <td>0.861947</td>\n",
       "      <td>0.960319</td>\n",
       "      <td>1.016023</td>\n",
       "      <td>-0.512986</td>\n",
       "      <td>0.727227</td>\n",
       "      <td>-0.034403</td>\n",
       "    </tr>\n",
       "    <tr>\n",
       "      <th>6619</th>\n",
       "      <td>1.070081</td>\n",
       "      <td>0.812210</td>\n",
       "      <td>-1.054415</td>\n",
       "      <td>2.603901</td>\n",
       "      <td>-1.103017</td>\n",
       "      <td>-0.990794</td>\n",
       "      <td>1.621444</td>\n",
       "      <td>-2.528767</td>\n",
       "      <td>2.473780</td>\n",
       "      <td>1.012429</td>\n",
       "      <td>...</td>\n",
       "      <td>1.368867</td>\n",
       "      <td>0.048809</td>\n",
       "      <td>0.420221</td>\n",
       "      <td>1.206387</td>\n",
       "      <td>1.911999</td>\n",
       "      <td>1.070738</td>\n",
       "      <td>0.517700</td>\n",
       "      <td>0.029711</td>\n",
       "      <td>1.068407</td>\n",
       "      <td>-2.044662</td>\n",
       "    </tr>\n",
       "    <tr>\n",
       "      <th>6620</th>\n",
       "      <td>2.087469</td>\n",
       "      <td>-1.275078</td>\n",
       "      <td>0.242502</td>\n",
       "      <td>1.684951</td>\n",
       "      <td>-0.782291</td>\n",
       "      <td>1.955986</td>\n",
       "      <td>-0.710070</td>\n",
       "      <td>1.817944</td>\n",
       "      <td>-0.686949</td>\n",
       "      <td>1.079936</td>\n",
       "      <td>...</td>\n",
       "      <td>0.263244</td>\n",
       "      <td>0.350720</td>\n",
       "      <td>0.704776</td>\n",
       "      <td>1.930130</td>\n",
       "      <td>1.262144</td>\n",
       "      <td>2.320718</td>\n",
       "      <td>2.100240</td>\n",
       "      <td>1.814240</td>\n",
       "      <td>2.385102</td>\n",
       "      <td>0.558095</td>\n",
       "    </tr>\n",
       "  </tbody>\n",
       "</table>\n",
       "<p>6621 rows × 38 columns</p>\n",
       "</div>"
      ],
      "text/plain": [
       "            0         1         2         3         4         5         6   \\\n",
       "0    -0.482530 -1.438952 -1.101677 -0.113792  1.058561  0.488922  1.720744   \n",
       "1    -1.086956 -1.204024  0.887710  0.020991  0.799679  0.602464  0.817815   \n",
       "2    -0.350064 -1.192304 -1.923286 -1.538495  0.067829  0.607211  2.869157   \n",
       "3    -0.094865  0.395920  0.353865 -0.495084  0.437733 -0.351223  0.606724   \n",
       "4    -0.274082  0.612170  0.918420 -1.149466  0.084080  0.084517 -0.026533   \n",
       "...        ...       ...       ...       ...       ...       ...       ...   \n",
       "6616 -1.463541 -0.448600  1.276753  0.280674 -0.845566  0.083171  0.705812   \n",
       "6617  1.094023  0.812874  0.508656  1.298854 -0.523503  0.981289 -0.310690   \n",
       "6618 -0.364640 -0.936267  0.478862  0.773056  1.198929  0.510726  0.193021   \n",
       "6619  1.070081  0.812210 -1.054415  2.603901 -1.103017 -0.990794  1.621444   \n",
       "6620  2.087469 -1.275078  0.242502  1.684951 -0.782291  1.955986 -0.710070   \n",
       "\n",
       "            7         8         9   ...        28        29        30  \\\n",
       "0    -0.467755 -0.628656  0.970018  ... -1.403307 -1.618946 -1.446762   \n",
       "1     0.175531  0.007295  0.104246  ... -0.723509  0.279771  1.572962   \n",
       "2     0.189706 -1.308540  1.236362  ... -0.792088  0.497840 -1.455801   \n",
       "3     0.711256  0.458434  0.357824  ...  0.715514  0.394195  0.212352   \n",
       "4     0.265013  0.568041 -0.760342  ...  0.074856 -0.053546  0.163256   \n",
       "...        ...       ...       ...  ...       ...       ...       ...   \n",
       "6616 -0.898012 -0.043343 -0.389673  ...  0.108954  0.198638  0.230507   \n",
       "6617  0.134591  0.890048 -0.518258  ... -0.022397 -0.013638  0.165482   \n",
       "6618  0.200042  0.625738  0.516748  ... -0.270995  0.041645 -0.218534   \n",
       "6619 -2.528767  2.473780  1.012429  ...  1.368867  0.048809  0.420221   \n",
       "6620  1.817944 -0.686949  1.079936  ...  0.263244  0.350720  0.704776   \n",
       "\n",
       "            31        32        33        34        35        36        37  \n",
       "0    -1.170324  0.542139  0.656914 -0.437587 -0.455822  0.402907  0.558095  \n",
       "1    -0.010966 -0.486261 -0.472462 -0.643264 -0.903726 -0.496325  0.350468  \n",
       "2    -2.020585  0.317506  0.056640 -0.801688  0.251750 -0.308184  0.558095  \n",
       "3     0.185817 -0.611721 -0.802469 -0.767140 -0.224655 -0.699563  0.350468  \n",
       "4     1.087381 -0.529416 -1.009172 -1.034637  0.166342 -1.007576  0.153222  \n",
       "...        ...       ...       ...       ...       ...       ...       ...  \n",
       "6616  0.595164  0.127410  0.207659  0.816291 -1.093789  0.524319  0.153222  \n",
       "6617  0.076858 -0.838675 -0.632857  0.065829  0.810161 -0.482345 -0.850160  \n",
       "6618 -0.160558  0.861947  0.960319  1.016023 -0.512986  0.727227 -0.034403  \n",
       "6619  1.206387  1.911999  1.070738  0.517700  0.029711  1.068407 -2.044662  \n",
       "6620  1.930130  1.262144  2.320718  2.100240  1.814240  2.385102  0.558095  \n",
       "\n",
       "[6621 rows x 38 columns]"
      ]
     },
     "execution_count": 33,
     "metadata": {},
     "output_type": "execute_result"
    }
   ],
   "source": [
    "data = pd.DataFrame(X)\n",
    "data"
   ]
  },
  {
   "cell_type": "code",
   "execution_count": null,
   "metadata": {},
   "outputs": [
    {
     "data": {
      "text/plain": [
       "<Axes: >"
      ]
     },
     "execution_count": 17,
     "metadata": {},
     "output_type": "execute_result"
    },
    {
     "data": {
      "image/png": "[encoded data removed]",
      "text/plain": [
       "<Figure size 640x480 with 1 Axes>"
      ]
     },
     "metadata": {},
     "output_type": "display_data"
    }
   ],
   "source": [
    "import seaborn as sns\n",
    "sns.boxplot(X)"
   ]
  },
  {
   "cell_type": "code",
   "execution_count": 34,
   "metadata": {},
   "outputs": [
    {
     "name": "stdout",
     "output_type": "stream",
     "text": [
      "(5296, 38) (1325, 38) (5296,) (1325,)\n"
     ]
    }
   ],
   "source": [
    "X_train, X_test, y_train, y_test = train_test_split(X, y, test_size=0.2, random_state=42)\n",
    "print(X_train.shape,X_test.shape,y_train.shape,y_test.shape)"
   ]
  },
  {
   "cell_type": "code",
   "execution_count": 35,
   "metadata": {},
   "outputs": [
    {
     "name": "stdout",
     "output_type": "stream",
     "text": [
      "Accuracy: 0.88\n",
      "Confusion Matrix:\n",
      "[[779  49]\n",
      " [110 387]]\n"
     ]
    }
   ],
   "source": [
    "random_forest_model = RandomForestClassifier(random_state=42)\n",
    "random_forest_model.fit(X_train, y_train)\n",
    "\n",
    "y_pred = random_forest_model.predict(X_test)\n",
    "accuracy = accuracy_score(y_test, y_pred)\n",
    "conf_matrix = confusion_matrix(y_test, y_pred)\n",
    "\n",
    "print(f\"Accuracy: {accuracy}\")\n",
    "print(f\"Confusion Matrix:\\n{conf_matrix}\")\n"
   ]
  },
  {
   "cell_type": "code",
   "execution_count": 36,
   "metadata": {},
   "outputs": [
    {
     "name": "stdout",
     "output_type": "stream",
     "text": [
      "Accuracy: 0.9033962264150943\n",
      "Confusion Matrix:\n",
      "[[770  58]\n",
      " [ 70 427]]\n"
     ]
    }
   ],
   "source": [
    "svm_model = SVC(C=7.296763473483312, kernel='rbf', gamma='auto', random_state=42)\n",
    "svm_model.fit(X_train, y_train)\n",
    "\n",
    "y_pred_svm = svm_model.predict(X_test)\n",
    "svm_accuracy = accuracy_score(y_test, y_pred_svm)\n",
    "svm_conf_matrix = confusion_matrix(y_test, y_pred_svm)\n",
    "\n",
    "print(f\"Accuracy: {svm_accuracy}\")\n",
    "print(f\"Confusion Matrix:\\n{svm_conf_matrix}\")\n"
   ]
  },
  {
   "cell_type": "code",
   "execution_count": 37,
   "metadata": {},
   "outputs": [
    {
     "name": "stdout",
     "output_type": "stream",
     "text": [
      " Accuracy: 0.8649056603773585\n",
      " Confusion Matrix:\n",
      "[[767  61]\n",
      " [118 379]]\n"
     ]
    }
   ],
   "source": [
    "logistic_model = LogisticRegression(random_state=42)\n",
    "logistic_model.fit(X_train, y_train)\n",
    "\n",
    "y_pred_logistic = logistic_model.predict(X_test)\n",
    "logistic_accuracy = accuracy_score(y_test, y_pred_logistic)\n",
    "logistic_conf_matrix = confusion_matrix(y_test, y_pred_logistic)\n",
    "\n",
    "print(f\" Accuracy: {logistic_accuracy}\")\n",
    "print(f\" Confusion Matrix:\\n{logistic_conf_matrix}\")\n"
   ]
  },
  {
   "cell_type": "code",
   "execution_count": 38,
   "metadata": {},
   "outputs": [
    {
     "name": "stdout",
     "output_type": "stream",
     "text": [
      "Accuracy: 0.88\n",
      "Confusion Matrix:\n",
      "[[767  61]\n",
      " [ 82 415]]\n"
     ]
    }
   ],
   "source": [
    "xgb_model = XGBClassifier()\n",
    "xgb_model.fit(X_train,y_train)\n",
    "\n",
    "y_pred_xgb = xgb_model.predict(X_test)\n",
    "xgb_accuracy = accuracy_score(y_test,y_pred)\n",
    "xgb_conf_matrix = confusion_matrix(y_test, y_pred_xgb)\n",
    "\n",
    "print(f\"Accuracy: {xgb_accuracy}\")\n",
    "print(f\"Confusion Matrix:\\n{xgb_conf_matrix}\")"
   ]
  },
  {
   "cell_type": "code",
   "execution_count": 39,
   "metadata": {},
   "outputs": [
    {
     "name": "stdout",
     "output_type": "stream",
     "text": [
      "Accuracy: 0.88\n",
      "Confusion Matrix:\n",
      "[[735  93]\n",
      " [ 85 412]]\n"
     ]
    }
   ],
   "source": [
    "knn_model = KNeighborsClassifier()\n",
    "knn_model.fit(X_train,y_train)\n",
    "\n",
    "y_pred_knn = knn_model.predict(X_test)\n",
    "knn_accuracy = accuracy_score(y_pred,y_test)\n",
    "knn_conf_matrix = confusion_matrix(y_test,y_pred_knn)\n",
    "\n",
    "print(f\"Accuracy: {knn_accuracy}\")\n",
    "print(f\"Confusion Matrix:\\n{knn_conf_matrix}\")"
   ]
  },
  {
   "cell_type": "code",
   "execution_count": 40,
   "metadata": {},
   "outputs": [
    {
     "name": "stdout",
     "output_type": "stream",
     "text": [
      "Accuracy: 0.88\n",
      "Confusion Matrix:\n",
      "[[692 136]\n",
      " [129 368]]\n"
     ]
    }
   ],
   "source": [
    "dt_model = DecisionTreeClassifier()\n",
    "dt_model.fit(X_train,y_train)\n",
    "\n",
    "y_pred_dt = dt_model.predict(X_test)\n",
    "dt_accuracy = accuracy_score(y_pred,y_test)\n",
    "dt_conf_matrix = confusion_matrix(y_test,y_pred_dt)\n",
    "\n",
    "print(f\"Accuracy: {dt_accuracy}\")\n",
    "print(f\"Confusion Matrix:\\n{dt_conf_matrix}\")"
   ]
  },
  {
   "cell_type": "code",
   "execution_count": 41,
   "metadata": {},
   "outputs": [
    {
     "data": {
      "text/plain": [
       "['decision_tree_classifier.pkl']"
      ]
     },
     "execution_count": 41,
     "metadata": {},
     "output_type": "execute_result"
    }
   ],
   "source": [
    "joblib.dump(random_forest_model,\"random_forest_classifier.pkl\")\n",
    "joblib.dump(svm_model,\"svm_classifier.pkl\")\n",
    "joblib.dump(logistic_model,\"logistic_reg_classifier.pkl\")\n",
    "joblib.dump(xgb_model,\"xgb_classifier.pkl\")\n",
    "joblib.dump(knn_model,\"knn_classifier.pkl\")\n",
    "joblib.dump(dt_model,\"decision_tree_classifier.pkl\")"
   ]
  },
  {
   "cell_type": "code",
   "execution_count": null,
   "metadata": {},
   "outputs": [],
   "source": []
  }
 ],
 "metadata": {
  "kernelspec": {
   "display_name": "Python 3",
   "language": "python",
   "name": "python3"
  },
  "language_info": {
   "codemirror_mode": {
    "name": "ipython",
    "version": 3
   },
   "file_extension": ".py",
   "mimetype": "text/x-python",
   "name": "python",
   "nbconvert_exporter": "python",
   "pygments_lexer": "ipython3",
   "version": "3.12.2"
  }
 },
 "nbformat": 4,
 "nbformat_minor": 2
}
